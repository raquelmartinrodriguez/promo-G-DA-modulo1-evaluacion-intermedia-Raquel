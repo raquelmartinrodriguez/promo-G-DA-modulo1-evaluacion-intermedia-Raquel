{
 "cells": [
  {
   "cell_type": "markdown",
   "metadata": {},
   "source": [
    "## Evalucación intermedia ##"
   ]
  },
  {
   "cell_type": "markdown",
   "metadata": {},
   "source": [
    "# parte 1 Strings"
   ]
  },
  {
   "cell_type": "markdown",
   "metadata": {},
   "source": [
    "1. Dada una cadena de texto, contar cuántas veces aparece una letra específica en ella. Usa un input para que el usuario elija la letra a buscar.\n",
    "cadena = \"Python es un lenguaje de programación muy popular\""
   ]
  },
  {
   "cell_type": "code",
   "execution_count": 3,
   "metadata": {},
   "outputs": [
    {
     "name": "stdout",
     "output_type": "stream",
     "text": [
      "Python es un lenguaje de programación muy popular\n",
      "la letra y aparece 2 veces en la frase\n"
     ]
    }
   ],
   "source": [
    "letra = (input ('indique una letra'))\n",
    "frase = \"Python es un lenguaje de programación muy popular\"\n",
    "print (frase)\n",
    "print (f'la letra {letra} aparece {frase.lower().count (letra)} veces en la frase')"
   ]
  },
  {
   "cell_type": "markdown",
   "metadata": {},
   "source": [
    "2. Escribe un programa que tome la siguiente cadena de texto y reemplace una palabra específica por otra palabra. La palabra a reemplazar y reemplazada deben ser elegidas por el usuario.\n",
    "cadena = \"Python es genial. Python es fácil de aprender.\""
   ]
  },
  {
   "cell_type": "code",
   "execution_count": 9,
   "metadata": {},
   "outputs": [
    {
     "name": "stdout",
     "output_type": "stream",
     "text": [
      "Python es genial. Python es fácil de aprender.\n",
      "Python es guay. Python es fácil de aprender.\n"
     ]
    }
   ],
   "source": [
    "cadena = 'Python es genial. Python es fácil de aprender.'\n",
    "print (cadena)\n",
    "\n",
    "palabra = str (input ('De la frase Python es genial. Python es fácil de aprender, ¿qué palabra quiere cambiar?'))\n",
    "nueva_palabra = str (input ('¿cual es la nueva palabra?'))\n",
    "\n",
    "cambios = cadena.replace((palabra), (nueva_palabra))\n",
    "print (cambios)\n"
   ]
  },
  {
   "cell_type": "markdown",
   "metadata": {},
   "source": [
    "3. Toma la siguiente oración y divídela en una lista de palabras. Luego, únelas nuevamente en una sola cadena de texto.\n",
    "oracion = \"Esto es una oración de ejemplo\""
   ]
  },
  {
   "cell_type": "code",
   "execution_count": 12,
   "metadata": {},
   "outputs": [
    {
     "name": "stdout",
     "output_type": "stream",
     "text": [
      "primero creamos una lista de palabras:\n",
      "['Esto', 'es', 'una', 'oración', 'de', 'ejemplo']\n",
      "-------------\n",
      "las unimos de nuevo en una sola cadena de texto:\n",
      "Esto es una oración de ejemplo\n"
     ]
    }
   ],
   "source": [
    "print ('primero creamos una lista de palabras:')\n",
    "oracion = \"Esto es una oración de ejemplo\"\n",
    "oracion2 = oracion.split( )\n",
    "print (oracion2)\n",
    "print ('-------------')\n",
    "print ('las unimos de nuevo en una sola cadena de texto:')\n",
    "oracion_unida = \" \".join (oracion2)\n",
    "print (oracion_unida)\n"
   ]
  },
  {
   "cell_type": "markdown",
   "metadata": {},
   "source": [
    "4. Desarrolla un programa que cuente cuántas palabras hay en la siguiente frase.\n",
    "cadena = \"Esta es una cadena con cinco palabras\""
   ]
  },
  {
   "cell_type": "code",
   "execution_count": 13,
   "metadata": {},
   "outputs": [
    {
     "name": "stdout",
     "output_type": "stream",
     "text": [
      "la frase\" Esta es una cadena con cinco palabras \"contiene 7 palabras.\n"
     ]
    }
   ],
   "source": [
    "frase = \"Esta es una cadena con cinco palabras\"\n",
    "print (f'la frase\" {frase} \"contiene {len (frase.split ( ))} palabras.')\n",
    "\n"
   ]
  },
  {
   "cell_type": "markdown",
   "metadata": {},
   "source": [
    "5. Escribe un programa que invierta una cadena de texto dada por un usuario. Mira el siguiente ejemplo para entender lo que se pide:\n",
    "    - input :\"Hola buenos dias\"\n",
    "\n",
    "    - output\" :dias buenos Hola"
   ]
  },
  {
   "cell_type": "code",
   "execution_count": 21,
   "metadata": {},
   "outputs": [
    {
     "name": "stdout",
     "output_type": "stream",
     "text": [
      "hola buenos días\n",
      "días buenos hola\n"
     ]
    }
   ],
   "source": [
    "frase = input ('diga una frase')\n",
    "print (frase)\n",
    "frase = frase.split()\n",
    "inversa = frase [::-1]\n",
    "print (\" \". join (inversa))"
   ]
  },
  {
   "cell_type": "markdown",
   "metadata": {},
   "source": [
    "6. Crea un programa que busque una palabra específica(elegida por la usuaria) en una cadena de texto e indique su posición."
   ]
  },
  {
   "cell_type": "code",
   "execution_count": 22,
   "metadata": {},
   "outputs": [
    {
     "name": "stdout",
     "output_type": "stream",
     "text": [
      "['los', 'árboles', 'se', 'llenan', 'de', 'flores', 'en', 'primavera']\n",
      "la palabra que ha escogido se encuentra en la posición 6\n"
     ]
    }
   ],
   "source": [
    "sentence = 'los árboles se llenan de flores en primavera'\n",
    "palabra_usuario = input ('indique una palabra para definir su posición').lower()\n",
    "sentence2 = sentence.split()\n",
    "print (sentence2)\n",
    "print (f'la palabra que ha escogido se encuentra en la posición {sentence2.index (palabra_usuario)+1}')"
   ]
  },
  {
   "cell_type": "markdown",
   "metadata": {},
   "source": [
    "# parte 2 Listas"
   ]
  },
  {
   "cell_type": "markdown",
   "metadata": {},
   "source": [
    "1. Dada la siguiente lista: frutas = ['manzana', 'pera', 'banana', 'uva', 'kiwi'], realiza lo siguiente:\n",
    "    - a) Reemplaza el segundo elemento con 'durazno'.\n",
    "    - b) Agrega 'naranja' al final de la lista.\n",
    "    - c) Extrae y muestra por pantalla el tercer elemento de la lista."
   ]
  },
  {
   "cell_type": "code",
   "execution_count": 26,
   "metadata": {},
   "outputs": [
    {
     "name": "stdout",
     "output_type": "stream",
     "text": [
      "['manzana', 'durazno', 'banana', 'uva', 'kiwi']\n",
      "['manzana', 'durazno', 'banana', 'uva', 'kiwi', 'naranja']\n",
      " el tercer elemento de la lista es banana\n"
     ]
    }
   ],
   "source": [
    "frutas = ['manzana', 'pera', 'banana', 'uva', 'kiwi']\n",
    "frutas.pop (1)\n",
    "frutas.insert (1, 'durazno')\n",
    "print (frutas)\n",
    "frutas. append ('naranja')\n",
    "print (frutas)\n",
    "print (f' el tercer elemento de la lista es {frutas [2]}')"
   ]
  },
  {
   "cell_type": "markdown",
   "metadata": {},
   "source": [
    "2. Crea una lista llamada numeros que contenga los siguientes valores: 10, 25, 15, 30, 20."
   ]
  },
  {
   "cell_type": "code",
   "execution_count": 27,
   "metadata": {},
   "outputs": [],
   "source": [
    "numeros = [10, 25, 15, 30, 20]\n",
    "numeros_copy =numeros.copy()"
   ]
  },
  {
   "cell_type": "markdown",
   "metadata": {},
   "source": [
    "3. Agrega el valor 35 al incio de la lista numeros."
   ]
  },
  {
   "cell_type": "code",
   "execution_count": 28,
   "metadata": {},
   "outputs": [
    {
     "name": "stdout",
     "output_type": "stream",
     "text": [
      "[35, 10, 25, 15, 30, 20]\n"
     ]
    }
   ],
   "source": [
    "numeros.insert (0, 35)\n",
    "print (numeros)"
   ]
  },
  {
   "cell_type": "markdown",
   "metadata": {},
   "source": [
    "4. Ordena la lista numeros en orden ascendente."
   ]
  },
  {
   "cell_type": "code",
   "execution_count": 29,
   "metadata": {},
   "outputs": [
    {
     "name": "stdout",
     "output_type": "stream",
     "text": [
      "[10, 15, 20, 25, 30, 35]\n"
     ]
    }
   ],
   "source": [
    "numeros.sort()\n",
    "print (numeros)"
   ]
  },
  {
   "cell_type": "markdown",
   "metadata": {},
   "source": [
    "5. Dada la siguiente lista numeros2 = [45, 22, 19, 38, 29]. Crea una nueva lista llamada numeros3 donde tengamos la unión de los todos los elementos de las dos listas (numeros y numeros2) de tal forma que el resultado final sea:\n",
    "    - numeros3 = [10, 25, 15, 30, 20, 45, 22, 19, 38, 29]"
   ]
  },
  {
   "cell_type": "code",
   "execution_count": 30,
   "metadata": {},
   "outputs": [
    {
     "name": "stdout",
     "output_type": "stream",
     "text": [
      "[10, 25, 15, 30, 20, 45, 22, 19, 38, 29]\n"
     ]
    }
   ],
   "source": [
    "numeros2 = [45, 22, 19, 38, 29]\n",
    "numeros3 = numeros_copy + numeros2\n",
    "print (numeros3)"
   ]
  },
  {
   "cell_type": "markdown",
   "metadata": {},
   "source": [
    "6. Elimina el último elemento de la lista numeros3."
   ]
  },
  {
   "cell_type": "code",
   "execution_count": 31,
   "metadata": {},
   "outputs": [
    {
     "name": "stdout",
     "output_type": "stream",
     "text": [
      "[10, 25, 15, 30, 20, 45, 22, 19, 38]\n"
     ]
    }
   ],
   "source": [
    "numeros3.pop (-1)\n",
    "print (numeros3)"
   ]
  },
  {
   "cell_type": "markdown",
   "metadata": {},
   "source": [
    "7. Elimina el número 30 de la lista numeros3."
   ]
  },
  {
   "cell_type": "code",
   "execution_count": 32,
   "metadata": {},
   "outputs": [
    {
     "name": "stdout",
     "output_type": "stream",
     "text": [
      "[10, 25, 15, 20, 45, 22, 19, 38]\n"
     ]
    }
   ],
   "source": [
    "numeros3.remove(30)\n",
    "print (numeros3)"
   ]
  },
  {
   "cell_type": "markdown",
   "metadata": {},
   "source": [
    "# parte 3 Tuplas"
   ]
  },
  {
   "cell_type": "markdown",
   "metadata": {},
   "source": [
    "1. Crea una tupla llamada colores que contenga los siguientes valores: 'rojo', 'verde', 'azul', 'amarillo', 'morado'."
   ]
  },
  {
   "cell_type": "code",
   "execution_count": 33,
   "metadata": {},
   "outputs": [],
   "source": [
    "colores = ('rojo', 'verde', 'azul', 'amarillo', 'morado')"
   ]
  },
  {
   "cell_type": "markdown",
   "metadata": {},
   "source": [
    "2. Encuentra el índice de 'verde' en la tupla colores."
   ]
  },
  {
   "cell_type": "code",
   "execution_count": 34,
   "metadata": {},
   "outputs": [
    {
     "name": "stdout",
     "output_type": "stream",
     "text": [
      "el índice del color verde es: 1\n"
     ]
    }
   ],
   "source": [
    "print ('el índice del color verde es:', colores.index ('verde'))"
   ]
  },
  {
   "cell_type": "markdown",
   "metadata": {},
   "source": [
    "3. ¿Cuántas veces aparece 'azul' en la tupla colores?"
   ]
  },
  {
   "cell_type": "code",
   "execution_count": 35,
   "metadata": {},
   "outputs": [
    {
     "name": "stdout",
     "output_type": "stream",
     "text": [
      "la palabra azul aparece 1 vez en la tupla\n"
     ]
    }
   ],
   "source": [
    "print ('la palabra azul aparece' , colores.count ('azul'),'vez en la tupla')"
   ]
  },
  {
   "cell_type": "markdown",
   "metadata": {},
   "source": [
    "4. Añade el color \"morado\" a la tupla colores. ¿Qué ha pasado? ¿Por qué? Como podríamos añadir el elemento \"morado\"."
   ]
  },
  {
   "cell_type": "code",
   "execution_count": 36,
   "metadata": {},
   "outputs": [
    {
     "name": "stdout",
     "output_type": "stream",
     "text": [
      "['rojo', 'verde', 'azul', 'amarillo', 'morado']\n",
      "['rojo', 'verde', 'azul', 'amarillo', 'morado', 'morado']\n",
      "('rojo', 'verde', 'azul', 'amarillo', 'morado', 'morado')\n"
     ]
    }
   ],
   "source": [
    "# las tuplas son inmutables, por lo que no podemos añadir un elemento a la tupla directamente. \n",
    "#Lo que podemos hacer es convertirlo primero a lista, modificarlo, y despues convertirlo de nuevo a tupla.\n",
    "lista_colores = list (colores)\n",
    "print (lista_colores)\n",
    "lista_colores.append ('morado')\n",
    "print (lista_colores)\n",
    "tupla_colores = tuple (lista_colores)\n",
    "print (tupla_colores)"
   ]
  },
  {
   "cell_type": "markdown",
   "metadata": {},
   "source": [
    "# parte 4 diccionarios"
   ]
  },
  {
   "cell_type": "markdown",
   "metadata": {},
   "source": [
    "1. Crea un diccionario llamado frutas con las siguientes parejas clave-valor:\n",
    "    - 'manzana': 2\n",
    "    - 'banana': 3\n",
    "    - 'uva': 5\n",
    "    - 'pera': 4"
   ]
  },
  {
   "cell_type": "code",
   "execution_count": 37,
   "metadata": {},
   "outputs": [
    {
     "data": {
      "text/plain": [
       "dict"
      ]
     },
     "execution_count": 37,
     "metadata": {},
     "output_type": "execute_result"
    }
   ],
   "source": [
    "frutas = {'manzana':2, 'banana':3, 'uva':5, 'pera': 4}\n",
    "type (frutas)\n"
   ]
  },
  {
   "cell_type": "markdown",
   "metadata": {},
   "source": [
    "2. Saca una lista de todas las frutas en el diccionario."
   ]
  },
  {
   "cell_type": "code",
   "execution_count": 38,
   "metadata": {},
   "outputs": [
    {
     "name": "stdout",
     "output_type": "stream",
     "text": [
      "['manzana', 'banana', 'uva', 'pera']\n"
     ]
    }
   ],
   "source": [
    "lista_frutas = list (frutas.keys())\n",
    "print (lista_frutas)"
   ]
  },
  {
   "cell_type": "markdown",
   "metadata": {},
   "source": [
    "3. Saca una lista de todas las cantidades en el diccionario."
   ]
  },
  {
   "cell_type": "code",
   "execution_count": 39,
   "metadata": {},
   "outputs": [
    {
     "name": "stdout",
     "output_type": "stream",
     "text": [
      "[2, 3, 5, 4]\n"
     ]
    }
   ],
   "source": [
    "cantidad_frutas = list (frutas.values())\n",
    "print (cantidad_frutas)"
   ]
  },
  {
   "cell_type": "markdown",
   "metadata": {},
   "source": [
    "4. ¿Qué cantidad de 'manzana' tenemos?. Si la clave 'manzana' no está presente, devuelve un mensaje diciendo \"No existe esa clave\"."
   ]
  },
  {
   "cell_type": "code",
   "execution_count": 40,
   "metadata": {},
   "outputs": [
    {
     "name": "stdout",
     "output_type": "stream",
     "text": [
      "{'manzana': 2, 'banana': 3, 'uva': 5, 'pera': 4}\n"
     ]
    }
   ],
   "source": [
    "print (frutas)"
   ]
  },
  {
   "cell_type": "code",
   "execution_count": 42,
   "metadata": {},
   "outputs": [
    {
     "name": "stdout",
     "output_type": "stream",
     "text": [
      "True\n",
      "--------------\n",
      "tenemos 3 banana\n"
     ]
    }
   ],
   "source": [
    "# mejor usar get \n",
    "pregunta = input ('¿de qué fruta quiere conocer la cantidad?')\n",
    "print (pregunta in frutas)\n",
    "print ('--------------')\n",
    "\n",
    "if pregunta not in frutas:\n",
    "    print ('no existe', pregunta)\n",
    "elif pregunta in frutas:\n",
    "    print ('tenemos', frutas.get(pregunta), pregunta)"
   ]
  },
  {
   "cell_type": "markdown",
   "metadata": {},
   "source": [
    "5. Agrega un nuevo par de clave-valor al diccionario frutas: 'kiwi' con una cantidad de 6."
   ]
  },
  {
   "cell_type": "code",
   "execution_count": 43,
   "metadata": {},
   "outputs": [
    {
     "name": "stdout",
     "output_type": "stream",
     "text": [
      "{'manzana': 2, 'banana': 3, 'uva': 5, 'pera': 4, 'kiwi': 6}\n"
     ]
    }
   ],
   "source": [
    "nueva_fruta = {'kiwi': 6}\n",
    "frutas.update (nueva_fruta)\n",
    "print (frutas)"
   ]
  },
  {
   "cell_type": "code",
   "execution_count": 44,
   "metadata": {},
   "outputs": [],
   "source": [
    "copy_frutas = frutas.copy()"
   ]
  },
  {
   "cell_type": "markdown",
   "metadata": {},
   "source": [
    "6. Cambia la cantidad de 'uva' a 8."
   ]
  },
  {
   "cell_type": "code",
   "execution_count": 45,
   "metadata": {},
   "outputs": [
    {
     "name": "stdout",
     "output_type": "stream",
     "text": [
      "{'manzana': 2, 'banana': 3, 'uva': 8, 'pera': 4, 'kiwi': 6}\n"
     ]
    }
   ],
   "source": [
    "uvas = {'uva':8}\n",
    "frutas.update(uvas)\n",
    "print (frutas)"
   ]
  },
  {
   "cell_type": "markdown",
   "metadata": {},
   "source": [
    "7. Crea un segundo diccionario llamado frutas_nuevas con las siguientes parejas clave-valor:\n",
    "    - 'sandía': 7\n",
    "    - 'mango': 4"
   ]
  },
  {
   "cell_type": "code",
   "execution_count": 46,
   "metadata": {},
   "outputs": [],
   "source": [
    "frutas_nuevas = {'sandia': 7, 'mango': 4}"
   ]
  },
  {
   "cell_type": "markdown",
   "metadata": {},
   "source": [
    "8. Combinar los dos diccionarios frutas_nuevas y frutas en uno nuevos llamado frutas_total."
   ]
  },
  {
   "cell_type": "code",
   "execution_count": 47,
   "metadata": {},
   "outputs": [
    {
     "name": "stdout",
     "output_type": "stream",
     "text": [
      "{'manzana': 2, 'banana': 3, 'uva': 5, 'pera': 4, 'kiwi': 6}\n",
      "{'manzana': 2, 'banana': 3, 'uva': 5, 'pera': 4, 'kiwi': 6, 'sandia': 7, 'mango': 4}\n",
      "{'manzana': 2, 'banana': 3, 'uva': 5, 'pera': 4, 'kiwi': 6, 'sandia': 7, 'mango': 4}\n"
     ]
    }
   ],
   "source": [
    "print (copy_frutas)\n",
    "copy_frutas.update (frutas_nuevas)\n",
    "print (copy_frutas)\n",
    "frutas_total = copy_frutas\n",
    "print (frutas_total)"
   ]
  },
  {
   "cell_type": "markdown",
   "metadata": {},
   "source": [
    "9. Elimina el último par de clave-valor del diccionario fruta_total."
   ]
  },
  {
   "cell_type": "code",
   "execution_count": 48,
   "metadata": {},
   "outputs": [
    {
     "name": "stdout",
     "output_type": "stream",
     "text": [
      "{'manzana': 2, 'banana': 3, 'uva': 5, 'pera': 4, 'kiwi': 6, 'sandia': 7}\n"
     ]
    }
   ],
   "source": [
    "frutas_total.popitem ()\n",
    "print (frutas_total)"
   ]
  },
  {
   "cell_type": "markdown",
   "metadata": {},
   "source": [
    "10. Elimina el par de clave-valor correspondiente a la clave 'uva' del diccionario."
   ]
  },
  {
   "cell_type": "code",
   "execution_count": 49,
   "metadata": {},
   "outputs": [
    {
     "name": "stdout",
     "output_type": "stream",
     "text": [
      "{'manzana': 2, 'banana': 3, 'pera': 4, 'kiwi': 6, 'sandia': 7}\n"
     ]
    }
   ],
   "source": [
    "frutas_total.pop ('uva')\n",
    "print (frutas_total)"
   ]
  },
  {
   "cell_type": "markdown",
   "metadata": {},
   "source": [
    "11. Agregar la fruta 'manzana' con una cantidad de 10 al diccionario. Si ya existe, no se realizarán cambios en los valores que teníamos."
   ]
  },
  {
   "cell_type": "code",
   "execution_count": 50,
   "metadata": {},
   "outputs": [
    {
     "name": "stdout",
     "output_type": "stream",
     "text": [
      "¿está manzana? True\n",
      "ya existe, luego no es necesario añadirla al diccionario\n"
     ]
    }
   ],
   "source": [
    "print ('¿está manzana?', 'manzana' in frutas_total)\n",
    "print ('ya existe, luego no es necesario añadirla al diccionario')"
   ]
  },
  {
   "cell_type": "markdown",
   "metadata": {},
   "source": [
    "12. Combinar métodos de listas y diccionarios:\n",
    "    - Obtén una lista de todas las cantidades en el diccionario y calcula suma total de las cantidades del diccionario frutas_total.\n",
    "    - Utilizando la lista creada en el apartado anterior encuentra la cantidad más grande y más pequeña."
   ]
  },
  {
   "cell_type": "code",
   "execution_count": 51,
   "metadata": {},
   "outputs": [
    {
     "name": "stdout",
     "output_type": "stream",
     "text": [
      "[2, 3, 4, 6, 7]\n"
     ]
    },
    {
     "data": {
      "text/plain": [
       "22"
      ]
     },
     "execution_count": 51,
     "metadata": {},
     "output_type": "execute_result"
    }
   ],
   "source": [
    "lista_frutas_total = list (frutas_total. values ())\n",
    "print (lista_frutas_total)\n",
    "sum (lista_frutas_total)"
   ]
  },
  {
   "cell_type": "code",
   "execution_count": 52,
   "metadata": {},
   "outputs": [
    {
     "name": "stdout",
     "output_type": "stream",
     "text": [
      "la cantidad más grande es 7\n",
      "la cantidad más pequeña es 2\n"
     ]
    }
   ],
   "source": [
    "print ('la cantidad más grande es', max (lista_frutas_total))\n",
    "print ('la cantidad más pequeña es', min (lista_frutas_total))\n"
   ]
  },
  {
   "cell_type": "markdown",
   "metadata": {},
   "source": [
    "# parte 4 sets"
   ]
  },
  {
   "cell_type": "markdown",
   "metadata": {},
   "source": [
    "1. Crea un set llamado conjunto1 con los números del 1 al 5."
   ]
  },
  {
   "cell_type": "code",
   "execution_count": 53,
   "metadata": {},
   "outputs": [],
   "source": [
    "conjunto1 = {1, 2, 3, 4, 5} "
   ]
  },
  {
   "cell_type": "markdown",
   "metadata": {},
   "source": [
    "2. Crea otro set llamado conjunto2 con los números del 4 al 8."
   ]
  },
  {
   "cell_type": "code",
   "execution_count": 54,
   "metadata": {},
   "outputs": [],
   "source": [
    "conjunto2 = {4, 5, 6, 7, 8}"
   ]
  },
  {
   "cell_type": "markdown",
   "metadata": {},
   "source": [
    "3. Obtén la unión de conjunto1 y conjunto2."
   ]
  },
  {
   "cell_type": "code",
   "execution_count": 55,
   "metadata": {},
   "outputs": [
    {
     "name": "stdout",
     "output_type": "stream",
     "text": [
      "{1, 2, 3, 4, 5}\n"
     ]
    }
   ],
   "source": [
    "conjunto1.union (conjunto2)\n",
    "print (conjunto1)"
   ]
  },
  {
   "cell_type": "markdown",
   "metadata": {},
   "source": [
    "4. Obtén la intersección de conjunto1 y conjunto2."
   ]
  },
  {
   "cell_type": "code",
   "execution_count": 57,
   "metadata": {},
   "outputs": [
    {
     "data": {
      "text/plain": [
       "{4, 5}"
      ]
     },
     "execution_count": 57,
     "metadata": {},
     "output_type": "execute_result"
    }
   ],
   "source": [
    "conjunto1.intersection(conjunto2)"
   ]
  },
  {
   "cell_type": "markdown",
   "metadata": {},
   "source": [
    "5. Obtén los elementos que están en conjunto1 pero no en el conjunto2."
   ]
  },
  {
   "cell_type": "code",
   "execution_count": 59,
   "metadata": {},
   "outputs": [
    {
     "data": {
      "text/plain": [
       "{1, 2, 3}"
      ]
     },
     "execution_count": 59,
     "metadata": {},
     "output_type": "execute_result"
    }
   ],
   "source": [
    "conjunto1.difference(conjunto2)"
   ]
  },
  {
   "cell_type": "markdown",
   "metadata": {},
   "source": [
    "# parte 4 Parte 6: Sentencias de Control\n"
   ]
  },
  {
   "cell_type": "markdown",
   "metadata": {},
   "source": [
    "1. Ejercicio 1: Evaluación de Edades:\n",
    "    - Escribe un programa que solicite al usuario ingresar su edad.\n",
    "    - Si la edad es menor de 18, muestra \"Eres menor de edad\".\n",
    "    - Si la edad está entre 18 y 65 (incluyendo ambos extremos), muestra \"Eres adulto\".\n",
    "    - Si la edad es mayor que 65, muestra \"Eres un adulto mayor\"."
   ]
  },
  {
   "cell_type": "code",
   "execution_count": null,
   "metadata": {},
   "outputs": [],
   "source": [
    "edad = int (input ('indique su edad'))\n",
    "\n",
    "if edad < 18:\n",
    "    print ('eres menor de edad')\n",
    "elif edad >= 18 and edad <= 65:\n",
    "    print ('eres adulto')\n",
    "else:\n",
    "    print ('eres adulto mayor')"
   ]
  },
  {
   "cell_type": "markdown",
   "metadata": {},
   "source": [
    "Ejercicio 2: Determinación de Día de la Semana.\n",
    "    - Solicita al usuario que ingrese un número del 1 al 7.\n",
    "    - Utilizando una serie de if-elif-else, muestra el día de la semana correspondiente al número ingresado. Por ejemplo, si ingresa 1, muestra \"Lunes\"."
   ]
  },
  {
   "cell_type": "code",
   "execution_count": 71,
   "metadata": {},
   "outputs": [],
   "source": [
    "dia_semana = int(input(\"Indique un número del 1 al 7 para ver a qué dia de la semana corresponde\"))\n",
    "\n",
    "if dia_semana == 1:\n",
    "    print(\"Es Lunes\")\n",
    "\n",
    "elif dia_semana == 2:\n",
    "    print(\"Es Martes\")\n",
    "\n",
    "elif dia_semana == 3:\n",
    "    print(\"Es Miércoles\")\n",
    "\n",
    "elif dia_semana == 4:\n",
    "    print(\"Es Jueves\")\n",
    "    \n",
    "elif dia_semana == 5:\n",
    "    print(\"Es Viernes\")\n",
    "    \n",
    "elif dia_semana == 6:\n",
    "    print(\"Es Sábado\")\n",
    "    \n",
    "elif dia_semana == 7:\n",
    "    print(\"Es Domingo\")\n",
    "\n",
    "else:\n",
    "    print(\"No es un dia de la semana\")"
   ]
  },
  {
   "cell_type": "markdown",
   "metadata": {},
   "source": [
    "Ejercicio 3: Juego de Adivinanza\n",
    "\n",
    "    -  Genera un número aleatorio entre 1 y 100.\n",
    "\n",
    "    -  Pídele al usuario que adivine el número.\n",
    "\n",
    "    - Si el usuario adivina correctamente en el primer intento, muestra \"¡Ganaste en el primer intento!\".\n",
    "    \n",
    "    - Si el usuario no adivina en el primer intento, bríndale pistas (mayor o menor) y permite que intente nuevamente. Muestra cuántos intentos le llevó al final."
   ]
  },
  {
   "cell_type": "code",
   "execution_count": null,
   "metadata": {},
   "outputs": [],
   "source": [
    "numero = 89\n",
    "\n",
    "adivina_numero = int(input(\"Pasa un numero entero entre 1 y 100\"))\n",
    "\n",
    "intentos = 1\n",
    "\n",
    "while numero != adivina_numero:\n",
    "    print(\"lo siento no has acertado, intentalo de nuevo\")\n",
    "    adivina_numero = int(input(\"Pasa un numero entero entre 1 y 100\"))\n",
    "    intentos += 1\n",
    "     \n",
    "print(f\"Perfecto, el numero era {adivina_numero} lo has acertado despues de {intentos} intentos\")"
   ]
  },
  {
   "cell_type": "code",
   "execution_count": null,
   "metadata": {},
   "outputs": [],
   "source": [
    "#OTRA FORMA DE RESOLVER:\n",
    "# Importamos el módulo random para generar un número aleatorio.\n",
    "import random\n",
    "\n",
    "# Generamos un número aleatorio entre 1 y 100 y lo almacenamos en la variable numero_aleatorio.\n",
    "numero_aleatorio = random.randint(1, 100)\n",
    "\n",
    "# Inicializamos la variable intentos en 0, que contará cuántos intentos ha realizado el usuario.\n",
    "intentos = 0\n",
    "\n",
    "# Iniciamos un bucle while que se ejecutará indefinidamente hasta que el usuario adivine el número secreto.\n",
    "while True:\n",
    "    # El usuario ingresa un número y lo convertimos a un entero.\n",
    "    adivina_usuario = int(input('Ingresa un número y adivina el número secreto: '))\n",
    "    \n",
    "    # Incrementamos el contador de intentos.\n",
    "    intentos += 1\n",
    "\n",
    "    # Comprobamos si el usuario adivinó el número en el primer intento y mostramos un mensaje especial.\n",
    "    if adivina_usuario == numero_aleatorio and intentos == 1:\n",
    "        print(\"Felicidades, has ganado en el primer intento\")\n",
    "        break\n",
    "\n",
    "    # Comprobamos si el usuario adivinó el número y mostramos un mensaje de victoria.\n",
    "    elif adivina_usuario == numero_aleatorio:\n",
    "        print('Has ganado!')\n",
    "        break\n",
    "\n",
    "    # Si el número adivinado es menor que el número secreto, indicamos que el número es menor y se debe seguir intentando.\n",
    "    elif adivina_usuario < numero_aleatorio:\n",
    "        print('El número que has elegido es menor al número secreto. Sigue intentando')\n",
    "\n",
    "    # Si el número adivinado es mayor que el número secreto, indicamos que el número es mayor y se debe seguir intentando.\n",
    "    else:\n",
    "        print('El número que has elegido es mayor al número secreto. Sigue intentando')\n",
    "\n",
    "# Una vez que el bucle while ha terminado, mostramos la cantidad de intentos realizados.\n",
    "print(f'La cantidad de intentos fueron {intentos}')"
   ]
  },
  {
   "cell_type": "markdown",
   "metadata": {},
   "source": [
    "Ejercicio 4: Juego de Adivinar la Palabra\n",
    "\n",
    "    - Elige una palabra secreta y ocúltala utilizando asteriscos, por ejemplo, \"secreto\" se muestra como \"*******\".\n",
    "\n",
    "    - Permite al usuario adivinar letras una por una.\n",
    "\n",
    "    - Si la letra adivinada está en la palabra secreta, muestra la palabra con las letras descubiertas y los asteriscos.\n",
    "\n",
    "    - Si la letra no está en la palabra secreta, resta una vida al jugador.\n",
    "\n",
    "    - El juego continúa hasta que el jugador adivine la palabra.\n",
    "    "
   ]
  },
  {
   "cell_type": "code",
   "execution_count": null,
   "metadata": {},
   "outputs": [],
   "source": [
    "# Primero, se crea un diccionario llamado palabra_secreta donde las letras de la palabra \"python\" se representan con asteriscos.\n",
    "palabra_secreta = {\"p\": \"*\", \"y\": \"*\", \"t\": \"*\", \"h\": \"*\", \"o\": \"*\", \"n\": \"*\"}\n",
    "\n",
    "# Se establece el número inicial de vidas del jugador en 10.\n",
    "vida = 10\n",
    "\n",
    "# Se crea una variable llamada 'respuesta' que contiene los asteriscos del diccionario como una cadena.\n",
    "respuesta = \"\".join(palabra_secreta.values())\n",
    "\n",
    "# Se inicia un bucle while que se ejecutará mientras la respuesta no sea igual a \"python\" y el jugador tenga al menos 1 vida.\n",
    "while respuesta != \"python\" and vida >= 1:\n",
    "    # Se solicita al jugador que introduzca una letra que pueda estar en la palabra y se convierte a minúsculas.\n",
    "    pregunta = input(\"Introduce una letra que pueda estar en la palabra\").lower()\n",
    "\n",
    "    # Se verifica si la letra ingresada está en la palabra secreta.\n",
    "    if pregunta in palabra_secreta:\n",
    "        # Si la letra está en la palabra, se actualiza el diccionario y se reemplaza el asterisco correspondiente por la letra adivinada.\n",
    "        palabra_secreta[pregunta] = pregunta\n",
    "        respuesta = \"\".join(palabra_secreta.values())\n",
    "        print(respuesta)\n",
    "        print(f\"Te quedan {vida} vidas\")\n",
    "    else:\n",
    "        # Si la letra no está en la palabra, se resta una vida y se muestra el número de vidas restantes.\n",
    "        print(\"Esa letra no se encuentra en la palabra\")\n",
    "        vida -= 1\n",
    "        print(f\"Te quedan {vida} vidas\")\n",
    "\n",
    "# Finalmente, se comprueba si el jugador ha perdido (vida = 0) o ganado (respuesta = \"python\") y se muestra el mensaje correspondiente.\n",
    "if vida == 0:\n",
    "    print(\"Se te acabaron las vidas\")\n",
    "else:\n",
    "    print(f\"¡Enhorabuena!, la palabra era {respuesta}, acabaste con {vida} vidas\")"
   ]
  },
  {
   "cell_type": "code",
   "execution_count": 2,
   "metadata": {},
   "outputs": [
    {
     "name": "stdout",
     "output_type": "stream",
     "text": [
      "gato\n",
      "¡Esa no está! Tienes 9 intentos\n",
      "****\n",
      "¡Correcto!\n",
      "g***\n",
      "¡Correcto!\n",
      "ga**\n",
      "¡Correcto!\n",
      "ga**\n",
      "¡Correcto!\n",
      "ga**\n",
      "¡Correcto!\n",
      "gat*\n",
      "¡Correcto!\n",
      "gat*\n",
      "¡Correcto!\n",
      "gato\n",
      "¡Has ganado!\n"
     ]
    }
   ],
   "source": [
    "# RESOLUCIÓN DE UNA COMPAÑERA DE CLASE\n",
    "palabra = 'gato'\n",
    "p_asterisco = '*' * len(palabra)\n",
    "vidas = 10\n",
    "\n",
    "print(palabra)\n",
    "while vidas > 0 and palabra != p_asterisco:\n",
    "    letra = input('Letra: ')\n",
    "    if letra in palabra:\n",
    "        print('¡Correcto!')\n",
    "        # Actualizar p_asterisco para cada ocurrencia de la letra\n",
    "        p_asterisco = ''.join(letra if letra == ch else p_asterisco[i] for i, ch in enumerate(palabra))\n",
    "        print(p_asterisco)\n",
    "    else:\n",
    "        vidas -= 1\n",
    "        print(f'¡Esa no está! Tienes {vidas} intentos')\n",
    "        print(p_asterisco)\n",
    "\n",
    "if vidas > 0:\n",
    "    print(\"¡Has ganado!\")\n",
    "else:\n",
    "    print(\"¡Has perdido!\")"
   ]
  }
 ],
 "metadata": {
  "kernelspec": {
   "display_name": "base",
   "language": "python",
   "name": "python3"
  },
  "language_info": {
   "codemirror_mode": {
    "name": "ipython",
    "version": 3
   },
   "file_extension": ".py",
   "mimetype": "text/x-python",
   "name": "python",
   "nbconvert_exporter": "python",
   "pygments_lexer": "ipython3",
   "version": "3.9.7"
  }
 },
 "nbformat": 4,
 "nbformat_minor": 2
}
